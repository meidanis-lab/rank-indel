{
 "cells": [
  {
   "cell_type": "markdown",
   "id": "33d4d011-a688-4c4a-95b9-d844284d3245",
   "metadata": {},
   "source": [
    "## 0) Preliminaries"
   ]
  },
  {
   "cell_type": "code",
   "execution_count": 1,
   "id": "169a57d2-cc5c-4de0-aa3e-86bd5c1284f3",
   "metadata": {},
   "outputs": [
    {
     "name": "stderr",
     "output_type": "stream",
     "text": [
      "Registered S3 method overwritten by 'ggtree':\n",
      "  method      from \n",
      "  identify.gg ggfun\n",
      "\n",
      "ggtree v3.2.1  For help: https://yulab-smu.top/treedata-book/\n",
      "\n",
      "If you use ggtree in published research, please cite the most appropriate paper(s):\n",
      "\n",
      "1. Guangchuang Yu. Using ggtree to visualize data on tree-like structures. Current Protocols in Bioinformatics. 2020, 69:e96. doi:10.1002/cpbi.96\n",
      "2. Guangchuang Yu, Tommy Tsan-Yuk Lam, Huachen Zhu, Yi Guan. Two methods for mapping and visualizing associated data on phylogeny using ggtree. Molecular Biology and Evolution. 2018, 35(12):3041-3043. doi:10.1093/molbev/msy194\n",
      "3. Guangchuang Yu, David Smith, Huachen Zhu, Yi Guan, Tommy Tsan-Yuk Lam. ggtree: an R package for visualization and annotation of phylogenetic trees with their covariates and other associated data. Methods in Ecology and Evolution. 2017, 8(1):28-36. doi:10.1111/2041-210X.12628\n",
      "\n",
      "\n",
      "\n",
      "\n",
      "Attaching package: ‘ggtree’\n",
      "\n",
      "\n",
      "The following object is masked from ‘package:ape’:\n",
      "\n",
      "    rotate\n",
      "\n",
      "\n",
      "Loading required package: ade4\n",
      "\n"
     ]
    }
   ],
   "source": [
    "library(ape)\n",
    "library(ggtree)\n",
    "library(phangorn)\n",
    "library(Quartet)\n",
    "library(adephylo)"
   ]
  },
  {
   "cell_type": "markdown",
   "id": "6e046360-8f04-49e5-856d-d7126809c9fd",
   "metadata": {},
   "source": [
    "## 1) Reading trees"
   ]
  },
  {
   "cell_type": "code",
   "execution_count": 43,
   "id": "67bd8aa1-ee15-4111-b8d2-59244c0cd950",
   "metadata": {},
   "outputs": [],
   "source": [
    "rank_tree <- read.tree(\"results/rank_tree.nwk\")\n",
    "rankindl_tree <- read.tree(\"results/rankindl_tree.nwk\")\n",
    "dcj_tree <- read.tree(\"results/dcj_tree_5000.nwk\")\n",
    "ref_tree <- read.tree(\"dummy_tree.nwk\")"
   ]
  },
  {
   "cell_type": "markdown",
   "id": "deeb00e8-3b44-4ef0-8589-9bcda99403d6",
   "metadata": {},
   "source": [
    "## 2) Topological comparison of trees"
   ]
  },
  {
   "cell_type": "code",
   "execution_count": 17,
   "id": "044df7f3-61eb-4e99-babe-6493925ad4ce",
   "metadata": {},
   "outputs": [],
   "source": [
    "display_metrics <- function(tree, ref_tree) {\n",
    "    splitStatuses <- SplitStatus(tree, ref_tree)\n",
    "    quartetStatuses <- QuartetStatus(tree, ref_tree)\n",
    "    print(paste(\"Robinson-Foulds: \", RawSymmetricDifference(splitStatuses)))\n",
    "    print(paste(\"Robinson-Foulds (normlized)\", RawSymmetricDifference(splitStatuses) / splitStatuses[, 'N']))\n",
    "    print(paste(\"Similarity by Quartets: \", SymmetricDifference(quartetStatuses)))\n",
    "}"
   ]
  },
  {
   "cell_type": "markdown",
   "id": "e84dc8bc-769a-460e-a4cf-b275e3c3ed7d",
   "metadata": {},
   "source": [
    "### 2.1) Rank vs. Reference"
   ]
  },
  {
   "cell_type": "code",
   "execution_count": 44,
   "id": "90f24db2-d13c-4736-aa2e-2cc91d5f90d4",
   "metadata": {},
   "outputs": [
    {
     "name": "stdout",
     "output_type": "stream",
     "text": [
      "[1] \"Robinson-Foulds:  18\"\n",
      "[1] \"Robinson-Foulds (normlized) 0.529411764705882\"\n",
      "[1] \"Similarity by Quartets:  0.663983488132095\"\n"
     ]
    }
   ],
   "source": [
    "display_metrics(rank_tree, ref_tree)"
   ]
  },
  {
   "cell_type": "markdown",
   "id": "5a9604e7",
   "metadata": {},
   "source": [
    "### 2.2) Rank-Indel vs. Reference"
   ]
  },
  {
   "cell_type": "code",
   "execution_count": 32,
   "id": "3b9d95ef",
   "metadata": {},
   "outputs": [
    {
     "name": "stdout",
     "output_type": "stream",
     "text": [
      "[1] \"Robinson-Foulds:  18\"\n",
      "[1] \"Robinson-Foulds (normlized) 0.529411764705882\"\n",
      "[1] \"Similarity by Quartets:  0.67781217750258\"\n"
     ]
    }
   ],
   "source": [
    "display_metrics(rankindl_tree, ref_tree)"
   ]
  },
  {
   "cell_type": "markdown",
   "id": "3e06f32e-f596-46f9-a214-5c587801632c",
   "metadata": {},
   "source": [
    "### 2.3) DCJ vs. Reference"
   ]
  },
  {
   "cell_type": "code",
   "execution_count": 12,
   "id": "e29c13d1-52cd-4a34-99c8-8cc92929da17",
   "metadata": {},
   "outputs": [
    {
     "name": "stdout",
     "output_type": "stream",
     "text": [
      "[1] \"Robinson-Foulds:  14\"\n",
      "[1] \"Similarity by Quartets:  0.67843137254902\"\n"
     ]
    }
   ],
   "source": [
    "display_metrics(dcj_tree, ref_tree)"
   ]
  },
  {
   "cell_type": "markdown",
   "id": "d57ddde4-f91e-4301-8cfa-a6e05bee4ded",
   "metadata": {},
   "source": [
    "## 3) Face to face plots"
   ]
  },
  {
   "cell_type": "code",
   "execution_count": 12,
   "id": "9182fe74-1360-410d-886b-6b09e9829ec4",
   "metadata": {},
   "outputs": [],
   "source": [
    "plot_cophylo <- function(tree1, tree2) {\n",
    "    cophyloplot(ladderize(tree1), ladderize(tree2),\n",
    "                assoc = matrix(rep(tree2$tip.label, 2), ncol = 2),\n",
    "                length.line = 4, space = 28, gap = 3);\n",
    "}"
   ]
  },
  {
   "cell_type": "code",
   "execution_count": 45,
   "id": "c0c5ad34-e917-4d9b-bb20-f0ea95117da5",
   "metadata": {},
   "outputs": [
    {
     "data": {
      "image/png": "[encoded data removed]",
      "text/plain": [
       "plot without title"
      ]
     },
     "metadata": {
      "image/png": {
       "height": 420,
       "width": 420
      }
     },
     "output_type": "display_data"
    }
   ],
   "source": [
    "png(\"ref_vs_rank.png\")\n",
    "plot_cophylo(ref_tree, rank_tree)\n",
    "dev.off()"
   ]
  },
  {
   "cell_type": "code",
   "execution_count": 37,
   "id": "19532a4a-78eb-478f-8de5-1168d27d4fbc",
   "metadata": {},
   "outputs": [
    {
     "data": {
      "text/html": [
       "<strong>png:</strong> 2"
      ],
      "text/latex": [
       "\\textbf{png:} 2"
      ],
      "text/markdown": [
       "**png:** 2"
      ],
      "text/plain": [
       "png \n",
       "  2 "
      ]
     },
     "metadata": {},
     "output_type": "display_data"
    }
   ],
   "source": [
    "png(\"ref_vs_rankindl.png\")\n",
    "plot_cophylo(ref_tree, rankindl_tree)\n",
    "dev.off()"
   ]
  },
  {
   "cell_type": "code",
   "execution_count": 29,
   "id": "4e6127a3-2ba1-4428-a96a-d39ef722038e",
   "metadata": {},
   "outputs": [
    {
     "data": {
      "text/html": [
       "<strong>png:</strong> 2"
      ],
      "text/latex": [
       "\\textbf{png:} 2"
      ],
      "text/markdown": [
       "**png:** 2"
      ],
      "text/plain": [
       "png \n",
       "  2 "
      ]
     },
     "metadata": {},
     "output_type": "display_data"
    }
   ],
   "source": [
    "png(\"ref_vs_dcj.png\")\n",
    "plot_cophylo(ref_tree, dcj_tree)\n",
    "dev.off()"
   ]
  }
 ],
 "metadata": {
  "kernelspec": {
   "display_name": "R",
   "language": "R",
   "name": "ir"
  },
  "language_info": {
   "codemirror_mode": "r",
   "file_extension": ".r",
   "mimetype": "text/x-r-source",
   "name": "R",
   "pygments_lexer": "r",
   "version": "4.1.3"
  }
 },
 "nbformat": 4,
 "nbformat_minor": 5
}
