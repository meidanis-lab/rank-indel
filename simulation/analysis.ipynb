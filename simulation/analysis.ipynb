{
 "cells": [
  {
   "cell_type": "markdown",
   "id": "33d4d011-a688-4c4a-95b9-d844284d3245",
   "metadata": {},
   "source": [
    "## Preliminaries"
   ]
  },
  {
   "cell_type": "code",
   "execution_count": null,
   "id": "169a57d2-cc5c-4de0-aa3e-86bd5c1284f3",
   "metadata": {},
   "outputs": [],
   "source": [
    "library(ape)\n",
    "library(ggtree)\n",
    "library(phangorn)\n",
    "library(Quartet)\n",
    "library(adephylo)\n",
    "library(ggplot2)\n",
    "library(reshape2)\n",
    "library(tidyverse)\n",
    "library(gridExtra)\n",
    "library(ggh4x)"
   ]
  },
  {
   "cell_type": "markdown",
   "id": "dcc72d89-8256-4306-adb8-b46994d8e407",
   "metadata": {},
   "source": [
    "#### Function to display face-to-face plot"
   ]
  },
  {
   "cell_type": "code",
   "execution_count": null,
   "id": "e7d64471-2661-4d0e-bb92-7772eef1230b",
   "metadata": {},
   "outputs": [],
   "source": [
    "plot_cophylo <- function(tree1, tree2) {\n",
    "    cophyloplot(ladderize(tree1), ladderize(tree2),\n",
    "                assoc = matrix(rep(tree2$tip.label, 2), ncol = 2),\n",
    "                length.line = 4, space = 28, gap = 3);\n",
    "}"
   ]
  },
  {
   "cell_type": "markdown",
   "id": "e6c75788-244d-4ea3-8503-f65d870b0d7e",
   "metadata": {},
   "source": [
    "#### Function to display RF and Quartet metrics"
   ]
  },
  {
   "cell_type": "code",
   "execution_count": null,
   "id": "65b13c05-606f-4cd6-84a5-2652dbeb92a7",
   "metadata": {},
   "outputs": [],
   "source": [
    "display_metrics <- function(tree, ref_tree) {\n",
    "    splitStatuses <- SplitStatus(tree, ref_tree)\n",
    "    quartetStatuses <- QuartetStatus(tree, ref_tree)\n",
    "    # the least, the better (by distance)\n",
    "    #print(paste(\"Robinson-Foulds: \", RawSymmetricDifference(splitStatuses, similarity = TRUE)))\n",
    "    print(paste(\"RF (normalized)\", RawSymmetricDifference(splitStatuses, similarity = TRUE) / splitStatuses[, 'N']))\n",
    "    # the greater, the better (by similarity)\n",
    "    print(paste(\"Quartet: \", SymmetricDifference(quartetStatuses, similarity = TRUE)))\n",
    "}"
   ]
  },
  {
   "cell_type": "markdown",
   "id": "6e046360-8f04-49e5-856d-d7126809c9fd",
   "metadata": {},
   "source": [
    "## Plotting and comparison of trees"
   ]
  },
  {
   "cell_type": "markdown",
   "id": "0e50846b-427a-43ff-b822-f6722b5a5c9f",
   "metadata": {},
   "source": [
    "#### Loading reference tree"
   ]
  },
  {
   "cell_type": "code",
   "execution_count": null,
   "id": "67bd8aa1-ee15-4111-b8d2-59244c0cd950",
   "metadata": {},
   "outputs": [],
   "source": [
    "ref_tree <- read.tree(\"dummy_tree.nwk\")"
   ]
  },
  {
   "cell_type": "code",
   "execution_count": null,
   "id": "30a2fdd4-3092-4e57-80e8-d700555fdde9",
   "metadata": {},
   "outputs": [],
   "source": [
    "#>>>>>>>>>>>>>>>>>>>>>>>>>>>>>>>>>>>>>>>>>>>>>>>>>>>>>>>>>>>>>>>>>>>>>>>>>>>>>>>>>>>>\n",
    "ngenes <- seq(from = 5000, to = 50000, by = 5000)\n",
    "indels <- seq(from = 0.0, to = 0.9, by = 0.1)\n",
    "\n",
    "rfs <- c()\n",
    "for (i in indels) {\n",
    "    display_metrics(read.tree(paste(\"rank/results_for_indel-rate/rankc_tree_indel-\", i, \".nwk\", sep = \"\")), ref_tree)\n",
    "}\n",
    "#for (i in indels) {\n",
    "#    display_metrics(read.tree(paste(\"dcj/dcj_tree_indel-\", i, \".nwk\", sep = \"\")), ref_tree)\n",
    "#}\n",
    "#<<<<<<<<<<<<<<<<<<<<<<<<<<<<<<<<<<<<<<<<<<<<<<<<<<<<<<<<<<<<<<<<<<<<<<<<<<<<<<<<<<<<"
   ]
  },
  {
   "cell_type": "markdown",
   "id": "dfe3475c-e11e-47ae-9459-e96e8be02728",
   "metadata": {},
   "source": [
    "#### Combinatios of simulator parameters"
   ]
  },
  {
   "cell_type": "code",
   "execution_count": null,
   "id": "625d8a0c-f2f3-4340-ab16-c825ce9be5b1",
   "metadata": {},
   "outputs": [],
   "source": [
    "confs <- c(\"GXIEz\",\"GXIez\",\"GXiEz\",\"GXiez\",\n",
    "           \"GxIEz\",\"GxIez\",\"GxiEz\",\"Gxiez\",\n",
    "           \"gXIEz\",\"gXIez\",\"gXiEz\",\"gXiez\",\n",
    "           \"gxIEz\",\"gxIez\",\"gxiEz\",\"gxiez\",\n",
    "           \"GXIEZ\",\"GXIeZ\",\"GXiEZ\",\"GXieZ\",\n",
    "           \"GxIEZ\",\"GxIeZ\",\"GxiEZ\",\"GxieZ\",\n",
    "           \"gXIEZ\",\"gXIeZ\",\"gXiEZ\",\"gXieZ\",\n",
    "           \"gxIEZ\",\"gxIeZ\",\"gxiEZ\",\"gxieZ\")"
   ]
  },
  {
   "cell_type": "markdown",
   "id": "f8b91660-52f2-4c87-b733-20355dab9d2c",
   "metadata": {},
   "source": [
    "#### Functions to load metrics in dataframe"
   ]
  },
  {
   "cell_type": "code",
   "execution_count": null,
   "id": "9a5395d1-b2da-42ef-8ab1-8c77b6fb5c6c",
   "metadata": {},
   "outputs": [],
   "source": [
    "get_quartet_metrics <- function (confs, dist, niters) {\n",
    "    df <- setNames(data.frame(matrix(ncol = length(confs), nrow = 10)), confs)\n",
    "    for (conf in confs) {\n",
    "        quartets <- c()\n",
    "        for (i in 1:niters) {\n",
    "            tree <- read.tree(paste(dist, \"/\", dist, \"_tree_\", conf, \"_iter\", i, \".nwk\", sep=\"\"))\n",
    "            quartetStatuses <- QuartetStatus(tree, ref_tree)\n",
    "            quartet <- SymmetricDifference(quartetStatuses)\n",
    "            quartets <- c(quartets, quartet)\n",
    "        }\n",
    "        df[conf] <- quartets\n",
    "    }\n",
    "    df\n",
    "}\n",
    "\n",
    "get_rf_metrics <- function (confs, dist, niters) {\n",
    "    df <- setNames(data.frame(matrix(ncol = length(confs), nrow = 10)), confs)\n",
    "    for (conf in confs) {\n",
    "        rfs <- c()\n",
    "        for (i in 1:niters) {\n",
    "            tree <- read.tree(paste(dist, \"/\", dist, \"_tree_\", conf, \"_iter\", i, \".nwk\", sep=\"\"))\n",
    "            splitStatuses <- SplitStatus(tree, ref_tree)\n",
    "            rf <- RawSymmetricDifference(splitStatuses) / splitStatuses[, 'N']\n",
    "            rfs <- c(rfs, rf)\n",
    "        }\n",
    "        df[conf] <- rfs\n",
    "    }\n",
    "    df\n",
    "}"
   ]
  },
  {
   "cell_type": "markdown",
   "id": "7d569c97-4746-4e01-b89a-c4abe90d1cd1",
   "metadata": {},
   "source": [
    "#### Functions to plot metrics and combinatios of simulator parameters as a grid"
   ]
  },
  {
   "cell_type": "code",
   "execution_count": null,
   "id": "ef8f1476-5fc5-4580-8081-a44fd806ee3b",
   "metadata": {},
   "outputs": [],
   "source": [
    "plot_quartet <- function (df) {\n",
    "    df %>%\n",
    "    pivot_longer(everything()) %>%\n",
    "    rename(quartet = value) %>%\n",
    "    separate(name, into = c(\"gx\", \"ie\", \"z\"), sep = c(2,4)) %>%\n",
    "    ggplot(aes(x = \"\", y = quartet)) + \n",
    "        geom_boxplot() +\n",
    "        facet_nested(gx ~ z + ie, scales = \"free\") +\n",
    "        theme(axis.ticks.x = element_blank(), axis.title.x = element_blank())\n",
    "}\n",
    "\n",
    "plot_rf <- function (df) {\n",
    "    df %>%\n",
    "    pivot_longer(everything()) %>%\n",
    "    rename(RF = value) %>%\n",
    "    separate(name, into = c(\"gx\", \"ie\", \"z\"), sep = c(2,4)) %>%\n",
    "    ggplot(aes(x = \"\", y = RF)) + \n",
    "        geom_boxplot() +\n",
    "        facet_nested(gx ~ z + ie, scales = \"free\") +\n",
    "        theme(axis.ticks.x = element_blank(), axis.title.x = element_blank())\n",
    "}"
   ]
  },
  {
   "cell_type": "markdown",
   "id": "e84dc8bc-769a-460e-a4cf-b275e3c3ed7d",
   "metadata": {},
   "source": [
    "#### Rank vs. Reference"
   ]
  },
  {
   "cell_type": "code",
   "execution_count": null,
   "id": "dc1c76c0-1030-4e36-814c-b64b197b6c41",
   "metadata": {},
   "outputs": [],
   "source": [
    "#png(\"ref-vs-rank_quartet.png\")\n",
    "get_quartet_metrics(confs, \"rank\", 10) %>%\n",
    "    plot_quartet()\n",
    "#dev.off()"
   ]
  },
  {
   "cell_type": "code",
   "execution_count": null,
   "id": "06e0500e-03c9-41ab-9d7f-73fb5ce14ecf",
   "metadata": {},
   "outputs": [],
   "source": [
    "#png(\"ref-vs-rank_rf.png\")\n",
    "get_rf_metrics(confs, \"rank\", 10) %>%\n",
    "    plot_rf()\n",
    "#dev.off()"
   ]
  },
  {
   "cell_type": "markdown",
   "id": "5a9604e7",
   "metadata": {},
   "source": [
    "#### Rank-Indel vs. Reference"
   ]
  },
  {
   "cell_type": "code",
   "execution_count": null,
   "id": "c06fa0db-f237-4794-b6fa-b2ff634cb4d4",
   "metadata": {},
   "outputs": [],
   "source": [
    "# no need"
   ]
  },
  {
   "cell_type": "markdown",
   "id": "3e06f32e-f596-46f9-a214-5c587801632c",
   "metadata": {},
   "source": [
    "#### DCJ vs. Reference"
   ]
  },
  {
   "cell_type": "code",
   "execution_count": null,
   "id": "b4cc0764-8e2e-46bc-8fd9-e4357a58ec86",
   "metadata": {},
   "outputs": [],
   "source": [
    "#png(\"ref-vs-dcj_quartet.png\")\n",
    "get_quartet_metrics(confs, \"dcj\", 10) %>%\n",
    "    plot_quartet()\n",
    "#dev.off()"
   ]
  },
  {
   "cell_type": "code",
   "execution_count": null,
   "id": "250280af-8870-4b25-9a77-83e601a95cff",
   "metadata": {},
   "outputs": [],
   "source": [
    "#png(\"ref-vs-dcj_rf.png\")\n",
    "get_rf_metrics(confs, \"dcj\", 10) %>%\n",
    "    plot_rf()\n",
    "#dev.off()"
   ]
  }
 ],
 "metadata": {
  "kernelspec": {
   "display_name": "R",
   "language": "R",
   "name": "ir"
  },
  "language_info": {
   "codemirror_mode": "r",
   "file_extension": ".r",
   "mimetype": "text/x-r-source",
   "name": "R",
   "pygments_lexer": "r",
   "version": "4.1.3"
  }
 },
 "nbformat": 4,
 "nbformat_minor": 5
}
