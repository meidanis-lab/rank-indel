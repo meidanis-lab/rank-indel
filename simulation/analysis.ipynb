{
 "cells": [
  {
   "cell_type": "markdown",
   "id": "33d4d011-a688-4c4a-95b9-d844284d3245",
   "metadata": {},
   "source": [
    "## Preliminaries"
   ]
  },
  {
   "cell_type": "code",
   "execution_count": null,
   "id": "169a57d2-cc5c-4de0-aa3e-86bd5c1284f3",
   "metadata": {},
   "outputs": [],
   "source": [
    "library(ape)\n",
    "library(ggtree)\n",
    "library(phangorn)\n",
    "library(Quartet)\n",
    "library(adephylo)\n",
    "library(ggplot2)\n",
    "library(reshape2)\n",
    "library(tidyverse)\n",
    "library(gridExtra)\n",
    "library(ggh4x)"
   ]
  },
  {
   "cell_type": "markdown",
   "id": "3d7b80f9-e62b-4f07-8469-9f8b07ab91cf",
   "metadata": {},
   "source": [
    "#### Path for results (change accordingly)"
   ]
  },
  {
   "cell_type": "code",
   "execution_count": null,
   "id": "d0fdd195-7eb0-4246-a916-df3f67825406",
   "metadata": {},
   "outputs": [],
   "source": [
    "REF_TREE <- \"dummy_tree.nwk\"\n",
    "RANK_RTIME <- \"rank/results_for_ngenes/timing_rankc.txt\"\n",
    "DCJ_RTIME <- \"dcj/results_for_ngenes_unimog/timing_dcj.txt\""
   ]
  },
  {
   "cell_type": "markdown",
   "id": "e6c75788-244d-4ea3-8503-f65d870b0d7e",
   "metadata": {},
   "source": [
    "#### Function to display RF and Quartet metrics"
   ]
  },
  {
   "cell_type": "code",
   "execution_count": null,
   "id": "65b13c05-606f-4cd6-84a5-2652dbeb92a7",
   "metadata": {},
   "outputs": [],
   "source": [
    "display_metrics <- function(tree, ref_tree) {\n",
    "    splitStatuses <- SplitStatus(tree, ref_tree)\n",
    "    quartetStatuses <- QuartetStatus(tree, ref_tree)\n",
    "    print(paste(\"RF (normalized)\", RawSymmetricDifference(splitStatuses, similarity = TRUE) / splitStatuses[, 'N']))\n",
    "    print(paste(\"Quartet: \", SymmetricDifference(quartetStatuses, similarity = TRUE)))\n",
    "}"
   ]
  },
  {
   "cell_type": "markdown",
   "id": "6e046360-8f04-49e5-856d-d7126809c9fd",
   "metadata": {},
   "source": [
    "## Plotting and comparison of trees"
   ]
  },
  {
   "cell_type": "markdown",
   "id": "0e50846b-427a-43ff-b822-f6722b5a5c9f",
   "metadata": {},
   "source": [
    "#### Loading reference tree"
   ]
  },
  {
   "cell_type": "code",
   "execution_count": null,
   "id": "67bd8aa1-ee15-4111-b8d2-59244c0cd950",
   "metadata": {},
   "outputs": [],
   "source": [
    "ref_tree <- read.tree(REF_TREE)"
   ]
  },
  {
   "cell_type": "markdown",
   "id": "34bb68ef-7a2c-4851-85cd-e324e354b631",
   "metadata": {},
   "source": [
    "#### Comparing running times"
   ]
  },
  {
   "cell_type": "code",
   "execution_count": null,
   "id": "30a2fdd4-3092-4e57-80e8-d700555fdde9",
   "metadata": {},
   "outputs": [],
   "source": [
    "df_rank <- read.table(RANK_RTIME, col.names = c(\"rtime\"))\n",
    "df_rank$ngenes <- seq(from = 5000, by = 5000, to = 50000)\n",
    "\n",
    "df_dcj <- read.table(DCJ_RTIME, col.names = c(\"rtime\"))\n",
    "df_dcj$ngenes <- seq(from = 5000, by = 5000, to = 50000)\n",
    "\n",
    "png(\"rankc-vs-dcj_rtime.png\")\n",
    "ggplot() +\n",
    "    geom_point(data = df_rank, mapping = aes(x = ngenes, y = rtime, color = \"Rank\")) +\n",
    "    geom_point(data = df_dcj, mapping = aes(x = ngenes, y = rtime, color = \"DCJ-Indel\")) + \n",
    "    xlab(\"Number of genes\") + ylab(\"Running time (sec)\") +\n",
    "    scale_color_manual(name = \"Distance model\", values = c(\"DCJ-Indel\" = \"red\", \"Rank\" = \"blue\"))\n",
    "dev.off()"
   ]
  },
  {
   "cell_type": "markdown",
   "id": "c11e1911-ac8c-495d-a4b7-e65e34922634",
   "metadata": {},
   "source": [
    "#### Comparison as a function of *indel* rate"
   ]
  },
  {
   "cell_type": "code",
   "execution_count": null,
   "id": "9350da90-681a-45bf-a7b0-5b9ad10421ef",
   "metadata": {},
   "outputs": [],
   "source": [
    "indels_rates <- c(\"0.0\", \"0.1\", \"0.2\", \"0.3\", \"0.4\", \"0.5\", \"0.6\", \"0.7\", \"0.8\", \"0.9\")\n",
    "\n",
    "get_quartet_metrics <- function (path, dist, indel_rates, niters) {\n",
    "    df <- setNames(data.frame(matrix(ncol = length(indels_rates), nrow = niters)), indels_rates)\n",
    "    for (i in indels_rates) {\n",
    "        quartets <- c()\n",
    "        for (j in 1:niters) {\n",
    "            tree <- read.tree(paste(path, dist, \"_tree_indel-\", i, \"_iter\", j, \".nwk\", sep=\"\"))\n",
    "            quartetStatuses <- QuartetStatus(tree, ref_tree)\n",
    "            quartet <- SymmetricDifference(quartetStatuses, similarity = TRUE)\n",
    "            quartets <- c(quartets, quartet)\n",
    "        }\n",
    "        df[i] <- quartets\n",
    "    }\n",
    "    df\n",
    "}\n",
    "get_rf_metrics <- function (path, dist, indel_rates, niters) {\n",
    "    df <- setNames(data.frame(matrix(ncol = length(indels_rates), nrow = niters)), indels_rates)\n",
    "    for (i in indels_rates) {\n",
    "        rfs <- c()\n",
    "        for (j in 1:niters) {\n",
    "            tree <- read.tree(paste(path, dist, \"_tree_indel-\", i, \"_iter\", j, \".nwk\", sep=\"\"))\n",
    "            splitStatuses <- SplitStatus(tree, ref_tree)\n",
    "            rf <- RawSymmetricDifference(splitStatuses, similarity = TRUE) / splitStatuses[, 'N']\n",
    "            rfs <- c(rfs, rf)\n",
    "        }\n",
    "        df[i] <- rfs\n",
    "    }\n",
    "    df\n",
    "}"
   ]
  },
  {
   "cell_type": "code",
   "execution_count": null,
   "id": "a610c800-8013-47c1-9e31-725e18fd5f73",
   "metadata": {},
   "outputs": [],
   "source": [
    "rank <- get_quartet_metrics(\"rank/results_for_indel-rate/\", \"rankc\", indel_rates, 10) %>%\n",
    "    pivot_longer(everything()) %>%\n",
    "    rename(irate = name, quartet = value)\n",
    "rank$dist <- \"Rank\"\n",
    "dcj <- get_quartet_metrics(\"dcj/results_for_indel-rate_unimog/\", \"dcj\", indel_rates, 10) %>%\n",
    "    pivot_longer(everything()) %>%\n",
    "    rename(irate = name, quartet = value)\n",
    "dcj$dist <- \"DCJ-Indel\"\n",
    "\n",
    "df <- rbind(rank, dcj)\n",
    "\n",
    "png(\"rank-vs-dcj_quartet.png\")\n",
    "ggplot(data = df, mapping = aes(x = irate, y = quartet, fill = dist)) + \n",
    "    geom_boxplot() +\n",
    "    xlab(\"Indel rate\") +\n",
    "    ylab(\"Quartet\") +\n",
    "    scale_fill_discrete(name = \"Distance model\")\n",
    "dev.off()"
   ]
  },
  {
   "cell_type": "code",
   "execution_count": null,
   "id": "397e32e0-4163-4e3c-994b-d3763d65e482",
   "metadata": {},
   "outputs": [],
   "source": [
    "rank <- get_rf_metrics(\"rank/results_for_indel-rate/\", \"rankc\", indel_rates, 10) %>%\n",
    "    pivot_longer(everything()) %>%\n",
    "    rename(irate = name, rf = value)\n",
    "rank$dist <- \"Rank\"\n",
    "dcj <- get_rf_metrics(\"dcj/results_for_indel-rate_unimog/\", \"dcj\", indel_rates, 10) %>%\n",
    "    pivot_longer(everything()) %>%\n",
    "    rename(irate = name, rf = value)\n",
    "dcj$dist <- \"DCJ-Indel\"\n",
    "\n",
    "df <- rbind(rank, dcj)\n",
    "\n",
    "png(\"rank-vs-dcj_rf.png\")\n",
    "ggplot(data = df, mapping = aes(x = irate, y = rf, fill = dist)) + \n",
    "    geom_boxplot() +\n",
    "    xlab(\"Indel rate\") +\n",
    "    ylab(\"RF\") +\n",
    "    scale_fill_discrete(name = \"Distance model\")\n",
    "dev.off()"
   ]
  }
 ],
 "metadata": {
  "kernelspec": {
   "display_name": "R",
   "language": "R",
   "name": "ir"
  },
  "language_info": {
   "codemirror_mode": "r",
   "file_extension": ".r",
   "mimetype": "text/x-r-source",
   "name": "R",
   "pygments_lexer": "r",
   "version": "4.1.3"
  }
 },
 "nbformat": 4,
 "nbformat_minor": 5
}
