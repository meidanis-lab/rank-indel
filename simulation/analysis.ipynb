{
 "cells": [
  {
   "cell_type": "markdown",
   "id": "33d4d011-a688-4c4a-95b9-d844284d3245",
   "metadata": {},
   "source": [
    "## Preliminaries"
   ]
  },
  {
   "cell_type": "code",
   "execution_count": 1,
   "id": "169a57d2-cc5c-4de0-aa3e-86bd5c1284f3",
   "metadata": {},
   "outputs": [
    {
     "name": "stderr",
     "output_type": "stream",
     "text": [
      "Registered S3 method overwritten by 'ggtree':\n",
      "  method      from \n",
      "  identify.gg ggfun\n",
      "\n",
      "ggtree v3.2.1  For help: https://yulab-smu.top/treedata-book/\n",
      "\n",
      "If you use ggtree in published research, please cite the most appropriate paper(s):\n",
      "\n",
      "1. Guangchuang Yu. Using ggtree to visualize data on tree-like structures. Current Protocols in Bioinformatics. 2020, 69:e96. doi:10.1002/cpbi.96\n",
      "2. Guangchuang Yu, Tommy Tsan-Yuk Lam, Huachen Zhu, Yi Guan. Two methods for mapping and visualizing associated data on phylogeny using ggtree. Molecular Biology and Evolution. 2018, 35(12):3041-3043. doi:10.1093/molbev/msy194\n",
      "3. Guangchuang Yu, David Smith, Huachen Zhu, Yi Guan, Tommy Tsan-Yuk Lam. ggtree: an R package for visualization and annotation of phylogenetic trees with their covariates and other associated data. Methods in Ecology and Evolution. 2017, 8(1):28-36. doi:10.1111/2041-210X.12628\n",
      "\n",
      "\n",
      "\n",
      "\n",
      "Attaching package: ‘ggtree’\n",
      "\n",
      "\n",
      "The following object is masked from ‘package:ape’:\n",
      "\n",
      "    rotate\n",
      "\n",
      "\n",
      "Loading required package: ade4\n",
      "\n",
      "Warning message in system(\"timedatectl\", intern = TRUE):\n",
      "“running command 'timedatectl' had status 1”\n",
      "── \u001b[1mAttaching packages\u001b[22m ──────────────────────────────────────────────────────────────────────────────── tidyverse 1.3.2 ──\n",
      "\u001b[32m✔\u001b[39m \u001b[34mtibble \u001b[39m 3.1.7     \u001b[32m✔\u001b[39m \u001b[34mdplyr  \u001b[39m 1.0.9\n",
      "\u001b[32m✔\u001b[39m \u001b[34mtidyr  \u001b[39m 1.2.0     \u001b[32m✔\u001b[39m \u001b[34mstringr\u001b[39m 1.4.0\n",
      "\u001b[32m✔\u001b[39m \u001b[34mreadr  \u001b[39m 2.1.2     \u001b[32m✔\u001b[39m \u001b[34mforcats\u001b[39m 0.5.1\n",
      "\u001b[32m✔\u001b[39m \u001b[34mpurrr  \u001b[39m 0.3.4     \n",
      "── \u001b[1mConflicts\u001b[22m ─────────────────────────────────────────────────────────────────────────────────── tidyverse_conflicts() ──\n",
      "\u001b[31m✖\u001b[39m \u001b[34mtidyr\u001b[39m::\u001b[32mexpand()\u001b[39m masks \u001b[34mggtree\u001b[39m::expand()\n",
      "\u001b[31m✖\u001b[39m \u001b[34mdplyr\u001b[39m::\u001b[32mfilter()\u001b[39m masks \u001b[34mstats\u001b[39m::filter()\n",
      "\u001b[31m✖\u001b[39m \u001b[34mdplyr\u001b[39m::\u001b[32mlag()\u001b[39m    masks \u001b[34mstats\u001b[39m::lag()\n"
     ]
    }
   ],
   "source": [
    "library(ape)\n",
    "library(ggtree)\n",
    "library(phangorn)\n",
    "library(Quartet)\n",
    "library(adephylo)\n",
    "library(ggplot2)\n",
    "library(reshape2)\n",
    "library(tidyverse)"
   ]
  },
  {
   "cell_type": "markdown",
   "id": "f9fad588-c6ba-43d9-959f-f0cd96297cf8",
   "metadata": {},
   "source": [
    "#### Function for displaying face-to-face plot"
   ]
  },
  {
   "cell_type": "code",
   "execution_count": 2,
   "id": "3f62cd5a-2013-4de2-9e3c-e320aad47626",
   "metadata": {},
   "outputs": [],
   "source": [
    "plot_cophylo <- function(tree1, tree2) {\n",
    "    cophyloplot(ladderize(tree1), ladderize(tree2),\n",
    "                assoc = matrix(rep(tree2$tip.label, 2), ncol = 2),\n",
    "                length.line = 4, space = 28, gap = 3);\n",
    "}"
   ]
  },
  {
   "cell_type": "markdown",
   "id": "e6c75788-244d-4ea3-8503-f65d870b0d7e",
   "metadata": {},
   "source": [
    "#### Function to display RF and Quartet metrics"
   ]
  },
  {
   "cell_type": "code",
   "execution_count": 3,
   "id": "65b13c05-606f-4cd6-84a5-2652dbeb92a7",
   "metadata": {},
   "outputs": [],
   "source": [
    "display_metrics <- function(tree, ref_tree) {\n",
    "    splitStatuses <- SplitStatus(tree, ref_tree)\n",
    "    quartetStatuses <- QuartetStatus(tree, ref_tree)\n",
    "    # the least, the better (by distance)\n",
    "    print(paste(\"Robinson-Foulds: \", RawSymmetricDifference(splitStatuses)))\n",
    "    print(paste(\"Robinson-Foulds (normalized)\", RawSymmetricDifference(splitStatuses) / splitStatuses[, 'N']))\n",
    "    # the greater, the better (by similarity)\n",
    "    print(paste(\"Similarity by Quartets: \", SymmetricDifference(quartetStatuses)))\n",
    "}"
   ]
  },
  {
   "cell_type": "markdown",
   "id": "6e046360-8f04-49e5-856d-d7126809c9fd",
   "metadata": {},
   "source": [
    "## Plotting and comparison of trees"
   ]
  },
  {
   "cell_type": "markdown",
   "id": "0e50846b-427a-43ff-b822-f6722b5a5c9f",
   "metadata": {},
   "source": [
    "#### Loading reference tree"
   ]
  },
  {
   "cell_type": "code",
   "execution_count": 4,
   "id": "67bd8aa1-ee15-4111-b8d2-59244c0cd950",
   "metadata": {},
   "outputs": [],
   "source": [
    "ref_tree <- read.tree(\"dummy_tree.nwk\")"
   ]
  },
  {
   "cell_type": "markdown",
   "id": "dfe3475c-e11e-47ae-9459-e96e8be02728",
   "metadata": {},
   "source": [
    "#### Combinatios of simulator parameters"
   ]
  },
  {
   "cell_type": "code",
   "execution_count": 5,
   "id": "625d8a0c-f2f3-4340-ab16-c825ce9be5b1",
   "metadata": {},
   "outputs": [],
   "source": [
    "confs_lower_z <- c(\"GXIEz\",\"GXIez\",\"GXiEz\",\"GXiez\",\n",
    "                   \"GxIEz\",\"GxIez\",\"GxiEz\",\"Gxiez\",\n",
    "                   \"gXIEz\",\"gXIez\",\"gXiEz\",\"gXiez\",\n",
    "                   \"gxIEz\",\"gxIez\",\"gxiEz\",\"gxiez\")\n",
    "\n",
    "confs_upper_z <- c(\"GXIEZ\",\"GXIeZ\",\"GXiEZ\",\"GXieZ\",\n",
    "                   \"GxIEZ\",\"GxIeZ\",\"GxiEZ\",\"GxieZ\",\n",
    "                   \"gXIEZ\",\"gXIeZ\",\"gXiEZ\",\"gXieZ\",\n",
    "                   \"gxIEZ\",\"gxIeZ\",\"gxiEZ\",\"gxieZ\")"
   ]
  },
  {
   "cell_type": "markdown",
   "id": "f8b91660-52f2-4c87-b733-20355dab9d2c",
   "metadata": {},
   "source": [
    "#### Functions to load metrics in dataframe"
   ]
  },
  {
   "cell_type": "code",
   "execution_count": 6,
   "id": "9a5395d1-b2da-42ef-8ab1-8c77b6fb5c6c",
   "metadata": {},
   "outputs": [],
   "source": [
    "get_quartet_metrics <- function (confs, dist, niters) {\n",
    "    df <- setNames(data.frame(matrix(ncol = length(confs), nrow = 10)), confs)\n",
    "    for (conf in confs) {\n",
    "        quartets <- c()\n",
    "        for (i in 1:niters) {\n",
    "            tree <- read.tree(paste(dist, \"/\", dist, \"_tree_\", conf, \"_iter\", i, \".nwk\", sep=\"\"))\n",
    "            quartetStatuses <- QuartetStatus(tree, ref_tree)\n",
    "            quartet <- SymmetricDifference(quartetStatuses)\n",
    "            quartets <- c(quartets, quartet)\n",
    "        }\n",
    "        df[conf] <- quartets\n",
    "    }\n",
    "    df\n",
    "}\n",
    "\n",
    "get_rf_metrics <- function (confs, dist, niters) {\n",
    "    df <- setNames(data.frame(matrix(ncol = length(confs), nrow = 10)), confs)\n",
    "    for (conf in confs) {\n",
    "        rfs <- c()\n",
    "        for (i in 1:niters) {\n",
    "            tree <- read.tree(paste(dist, \"/\", dist, \"_tree_\", conf, \"_iter\", i, \".nwk\", sep=\"\"))\n",
    "            splitStatuses <- SplitStatus(tree, ref_tree)\n",
    "            rf <- RawSymmetricDifference(splitStatuses) / splitStatuses[, 'N']\n",
    "            rfs <- c(rfs, rf)\n",
    "        }\n",
    "        df[conf] <- rfs\n",
    "    }\n",
    "    df\n",
    "}"
   ]
  },
  {
   "cell_type": "markdown",
   "id": "7d569c97-4746-4e01-b89a-c4abe90d1cd1",
   "metadata": {},
   "source": [
    "#### Functions to plot metrics and combinatios of simulator parameters as a grid"
   ]
  },
  {
   "cell_type": "code",
   "execution_count": 7,
   "id": "ef8f1476-5fc5-4580-8081-a44fd806ee3b",
   "metadata": {},
   "outputs": [],
   "source": [
    "plot_quartet <- function (df) {\n",
    "  df %>%\n",
    "  pivot_longer(everything()) %>%\n",
    "  rename(quartet = value) %>%\n",
    "  separate(name, into = c(\"gx\", \"ie\"), sep = c(2,4)) %>%\n",
    "  ggplot(aes(x = \"\", y = quartet)) + \n",
    "    geom_boxplot() +\n",
    "    facet_grid(rows = vars(gx), cols = vars(ie), scales = \"free\") +\n",
    "    theme(axis.ticks.x = element_blank(), axis.title.x = element_blank())\n",
    "}\n",
    "\n",
    "plot_rf <- function (df) {\n",
    "  df %>%\n",
    "  pivot_longer(everything()) %>%\n",
    "  rename(RF = value) %>%\n",
    "  separate(name, into = c(\"gx\", \"ie\"), sep = c(2,4)) %>%\n",
    "  ggplot(aes(x = \"\", y = RF)) + \n",
    "    geom_boxplot() +\n",
    "    facet_grid(rows = vars(gx), cols = vars(ie), scales = \"free\") +\n",
    "    theme(axis.ticks.x = element_blank(), axis.title.x = element_blank())\n",
    "}"
   ]
  },
  {
   "cell_type": "markdown",
   "id": "e84dc8bc-769a-460e-a4cf-b275e3c3ed7d",
   "metadata": {},
   "source": [
    "#### Rank vs. Reference"
   ]
  },
  {
   "cell_type": "code",
   "execution_count": 8,
   "id": "6cc1dd27",
   "metadata": {},
   "outputs": [
    {
     "data": {
      "text/html": [
       "<strong>png:</strong> 2"
      ],
      "text/latex": [
       "\\textbf{png:} 2"
      ],
      "text/markdown": [
       "**png:** 2"
      ],
      "text/plain": [
       "png \n",
       "  2 "
      ]
     },
     "metadata": {},
     "output_type": "display_data"
    }
   ],
   "source": [
    "png(\"ref-vs-rank_quartet_lower-z.png\")\n",
    "get_quartet_metrics(confs_lower_z, \"rank\", 10) %>%\n",
    "    plot_quartet()\n",
    "dev.off()"
   ]
  },
  {
   "cell_type": "code",
   "execution_count": 9,
   "id": "0534c0ce-79b8-4305-9e15-3fef4616fad7",
   "metadata": {},
   "outputs": [
    {
     "data": {
      "text/html": [
       "<strong>png:</strong> 2"
      ],
      "text/latex": [
       "\\textbf{png:} 2"
      ],
      "text/markdown": [
       "**png:** 2"
      ],
      "text/plain": [
       "png \n",
       "  2 "
      ]
     },
     "metadata": {},
     "output_type": "display_data"
    }
   ],
   "source": [
    "png(\"ref-vs-rank_quartet-upper-z.png\")\n",
    "get_quartet_metrics(confs_upper_z, \"rank\", 10) %>%\n",
    "    plot_quartet()\n",
    "dev.off()"
   ]
  },
  {
   "cell_type": "code",
   "execution_count": 10,
   "id": "06e0500e-03c9-41ab-9d7f-73fb5ce14ecf",
   "metadata": {},
   "outputs": [
    {
     "data": {
      "text/html": [
       "<strong>png:</strong> 2"
      ],
      "text/latex": [
       "\\textbf{png:} 2"
      ],
      "text/markdown": [
       "**png:** 2"
      ],
      "text/plain": [
       "png \n",
       "  2 "
      ]
     },
     "metadata": {},
     "output_type": "display_data"
    }
   ],
   "source": [
    "png(\"ref-vs-rank_rf-lower-z.png\")\n",
    "get_rf_metrics(confs_lower_z, \"rank\", 10) %>%\n",
    "    plot_rf()\n",
    "dev.off()"
   ]
  },
  {
   "cell_type": "code",
   "execution_count": 11,
   "id": "b1860dea-2538-4f40-8e1a-7a5f5777fd78",
   "metadata": {},
   "outputs": [
    {
     "data": {
      "text/html": [
       "<strong>png:</strong> 2"
      ],
      "text/latex": [
       "\\textbf{png:} 2"
      ],
      "text/markdown": [
       "**png:** 2"
      ],
      "text/plain": [
       "png \n",
       "  2 "
      ]
     },
     "metadata": {},
     "output_type": "display_data"
    }
   ],
   "source": [
    "png(\"ref-vs-rank_rf-upper-z.png\")\n",
    "get_rf_metrics(confs_upper_z, \"rank\", 10) %>%\n",
    "    plot_rf()\n",
    "dev.off()"
   ]
  },
  {
   "cell_type": "markdown",
   "id": "5a9604e7",
   "metadata": {},
   "source": [
    "#### Rank-Indel vs. Reference"
   ]
  },
  {
   "cell_type": "code",
   "execution_count": null,
   "id": "c06fa0db-f237-4794-b6fa-b2ff634cb4d4",
   "metadata": {},
   "outputs": [],
   "source": []
  },
  {
   "cell_type": "markdown",
   "id": "3e06f32e-f596-46f9-a214-5c587801632c",
   "metadata": {},
   "source": [
    "#### DCJ vs. Reference"
   ]
  },
  {
   "cell_type": "code",
   "execution_count": 12,
   "id": "e29c13d1-52cd-4a34-99c8-8cc92929da17",
   "metadata": {},
   "outputs": [
    {
     "data": {
      "text/html": [
       "<strong>png:</strong> 2"
      ],
      "text/latex": [
       "\\textbf{png:} 2"
      ],
      "text/markdown": [
       "**png:** 2"
      ],
      "text/plain": [
       "png \n",
       "  2 "
      ]
     },
     "metadata": {},
     "output_type": "display_data"
    }
   ],
   "source": [
    "png(\"ref-vs-dcj_quartet_lower-z.png\")\n",
    "get_quartet_metrics(confs_lower_z, \"dcj\", 10) %>%\n",
    "    plot_quartet()\n",
    "dev.off()"
   ]
  },
  {
   "cell_type": "code",
   "execution_count": 13,
   "id": "310158fb-a06b-430e-867a-74852d7d6c80",
   "metadata": {},
   "outputs": [
    {
     "data": {
      "text/html": [
       "<strong>png:</strong> 2"
      ],
      "text/latex": [
       "\\textbf{png:} 2"
      ],
      "text/markdown": [
       "**png:** 2"
      ],
      "text/plain": [
       "png \n",
       "  2 "
      ]
     },
     "metadata": {},
     "output_type": "display_data"
    }
   ],
   "source": [
    "png(\"ref-vs-dcj_quartet_upper-z.png\")\n",
    "get_quartet_metrics(confs_upper_z, \"dcj\", 10) %>%\n",
    "    plot_quartet()\n",
    "dev.off()"
   ]
  },
  {
   "cell_type": "code",
   "execution_count": 14,
   "id": "a97991b3-97d1-4a84-851a-6917b6283fed",
   "metadata": {},
   "outputs": [
    {
     "data": {
      "text/html": [
       "<strong>png:</strong> 2"
      ],
      "text/latex": [
       "\\textbf{png:} 2"
      ],
      "text/markdown": [
       "**png:** 2"
      ],
      "text/plain": [
       "png \n",
       "  2 "
      ]
     },
     "metadata": {},
     "output_type": "display_data"
    }
   ],
   "source": [
    "png(\"ref-vs-dcj_rf_lower-z.png\")\n",
    "get_rf_metrics(confs_lower_z, \"dcj\", 10) %>%\n",
    "    plot_rf()\n",
    "dev.off()"
   ]
  },
  {
   "cell_type": "code",
   "execution_count": 15,
   "id": "55f50cce-c665-4606-a1e3-1f3b0f79f0ce",
   "metadata": {},
   "outputs": [
    {
     "data": {
      "text/html": [
       "<strong>png:</strong> 2"
      ],
      "text/latex": [
       "\\textbf{png:} 2"
      ],
      "text/markdown": [
       "**png:** 2"
      ],
      "text/plain": [
       "png \n",
       "  2 "
      ]
     },
     "metadata": {},
     "output_type": "display_data"
    }
   ],
   "source": [
    "png(\"ref-vs-dcj_rf_upper-z.png\")\n",
    "get_rf_metrics(confs_upper_z, \"dcj\", 10) %>%\n",
    "    plot_rf()\n",
    "dev.off()"
   ]
  }
 ],
 "metadata": {
  "kernelspec": {
   "display_name": "R",
   "language": "R",
   "name": "ir"
  },
  "language_info": {
   "codemirror_mode": "r",
   "file_extension": ".r",
   "mimetype": "text/x-r-source",
   "name": "R",
   "pygments_lexer": "r",
   "version": "4.1.3"
  }
 },
 "nbformat": 4,
 "nbformat_minor": 5
}
