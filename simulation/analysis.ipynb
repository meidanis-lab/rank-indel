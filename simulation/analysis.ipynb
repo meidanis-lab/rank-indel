{
 "cells": [
  {
   "cell_type": "markdown",
   "id": "33d4d011-a688-4c4a-95b9-d844284d3245",
   "metadata": {},
   "source": [
    "## Preliminaries"
   ]
  },
  {
   "cell_type": "code",
   "execution_count": null,
   "id": "169a57d2-cc5c-4de0-aa3e-86bd5c1284f3",
   "metadata": {},
   "outputs": [],
   "source": [
    "library(ape)\n",
    "library(ggtree)\n",
    "library(phangorn)\n",
    "library(Quartet)\n",
    "library(adephylo)"
   ]
  },
  {
   "cell_type": "markdown",
   "id": "f9fad588-c6ba-43d9-959f-f0cd96297cf8",
   "metadata": {},
   "source": [
    "#### Function for displaying face-to-face plot"
   ]
  },
  {
   "cell_type": "code",
   "execution_count": null,
   "id": "3f62cd5a-2013-4de2-9e3c-e320aad47626",
   "metadata": {},
   "outputs": [],
   "source": [
    "plot_cophylo <- function(tree1, tree2) {\n",
    "    cophyloplot(ladderize(tree1), ladderize(tree2),\n",
    "                assoc = matrix(rep(tree2$tip.label, 2), ncol = 2),\n",
    "                length.line = 4, space = 28, gap = 3);\n",
    "}"
   ]
  },
  {
   "cell_type": "markdown",
   "id": "e6c75788-244d-4ea3-8503-f65d870b0d7e",
   "metadata": {},
   "source": [
    "#### Function to display RF and Quartet metrics"
   ]
  },
  {
   "cell_type": "code",
   "execution_count": null,
   "id": "65b13c05-606f-4cd6-84a5-2652dbeb92a7",
   "metadata": {},
   "outputs": [],
   "source": [
    "display_metrics <- function(tree, ref_tree) {\n",
    "    splitStatuses <- SplitStatus(tree, ref_tree)\n",
    "    quartetStatuses <- QuartetStatus(tree, ref_tree)\n",
    "    # the least, the better (by distance)\n",
    "    print(paste(\"Robinson-Foulds: \", RawSymmetricDifference(splitStatuses)))\n",
    "    print(paste(\"Robinson-Foulds (normalized)\", RawSymmetricDifference(splitStatuses) / splitStatuses[, 'N']))\n",
    "    # the greater, the better (by similarity)\n",
    "    print(paste(\"Similarity by Quartets: \", SymmetricDifference(quartetStatuses)))\n",
    "}"
   ]
  },
  {
   "cell_type": "markdown",
   "id": "6e046360-8f04-49e5-856d-d7126809c9fd",
   "metadata": {},
   "source": [
    "## Plotting and comparison of trees"
   ]
  },
  {
   "cell_type": "markdown",
   "id": "0e50846b-427a-43ff-b822-f6722b5a5c9f",
   "metadata": {},
   "source": [
    "#### Loading reference tree"
   ]
  },
  {
   "cell_type": "code",
   "execution_count": null,
   "id": "67bd8aa1-ee15-4111-b8d2-59244c0cd950",
   "metadata": {},
   "outputs": [],
   "source": [
    "ref_tree <- read.tree(\"dummy_tree.nwk\")"
   ]
  },
  {
   "cell_type": "markdown",
   "id": "e84dc8bc-769a-460e-a4cf-b275e3c3ed7d",
   "metadata": {},
   "source": [
    "#### Rank vs. Reference"
   ]
  },
  {
   "cell_type": "code",
   "execution_count": null,
   "id": "90f24db2-d13c-4736-aa2e-2cc91d5f90d4",
   "metadata": {},
   "outputs": [],
   "source": [
    "rank_tree <- read.tree(\"results/rank_tree.nwk\")\n",
    "\n",
    "display_metrics(rank_tree, ref_tree)\n",
    "\n",
    "#png(\"ref_vs_rank.png\")\n",
    "plot_cophylo(ref_tree, rank_tree)\n",
    "#dev.off()"
   ]
  },
  {
   "cell_type": "markdown",
   "id": "5a9604e7",
   "metadata": {},
   "source": [
    "#### Rank-Indel vs. Reference"
   ]
  },
  {
   "cell_type": "code",
   "execution_count": null,
   "id": "3b9d95ef",
   "metadata": {},
   "outputs": [],
   "source": [
    "rankindl_tree <- read.tree(\"results/rankindl_tree.nwk\")\n",
    "\n",
    "display_metrics(rankindl_tree, ref_tree)\n",
    "\n",
    "#png(\"ref_vs_rankindl.png\")\n",
    "plot_cophylo(ref_tree, rankindl_tree)\n",
    "#dev.off()"
   ]
  },
  {
   "cell_type": "markdown",
   "id": "3e06f32e-f596-46f9-a214-5c587801632c",
   "metadata": {},
   "source": [
    "#### DCJ vs. Reference"
   ]
  },
  {
   "cell_type": "code",
   "execution_count": null,
   "id": "e29c13d1-52cd-4a34-99c8-8cc92929da17",
   "metadata": {},
   "outputs": [],
   "source": [
    "dcj_tree <- read.tree(\"results/dcj_tree.nwk\")\n",
    "\n",
    "display_metrics(dcj_tree, ref_tree)\n",
    "\n",
    "#png(\"ref_vs_dcj.png\")\n",
    "plot_cophylo(ref_tree, dcj_tree)\n",
    "#dev.off()"
   ]
  }
 ],
 "metadata": {
  "kernelspec": {
   "display_name": "R",
   "language": "R",
   "name": "ir"
  },
  "language_info": {
   "codemirror_mode": "r",
   "file_extension": ".r",
   "mimetype": "text/x-r-source",
   "name": "R",
   "pygments_lexer": "r",
   "version": "4.1.3"
  }
 },
 "nbformat": 4,
 "nbformat_minor": 5
}
