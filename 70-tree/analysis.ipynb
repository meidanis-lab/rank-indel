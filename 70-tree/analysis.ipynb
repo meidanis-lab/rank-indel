{
 "cells": [
  {
   "cell_type": "markdown",
   "id": "33d4d011-a688-4c4a-95b9-d844284d3245",
   "metadata": {},
   "source": [
    "## Preliminaries"
   ]
  },
  {
   "cell_type": "code",
   "execution_count": null,
   "id": "169a57d2-cc5c-4de0-aa3e-86bd5c1284f3",
   "metadata": {},
   "outputs": [],
   "source": [
    "library(ape)\n",
    "library(ggtree)\n",
    "library(Quartet)\n",
    "library(dplyr)"
   ]
  },
  {
   "cell_type": "markdown",
   "id": "f3ce4b2a-ccd5-4e25-9200-8b32d18d9d7f",
   "metadata": {},
   "source": [
    "#### Function to display RF and Quartet metrics"
   ]
  },
  {
   "cell_type": "code",
   "execution_count": null,
   "id": "c207de43-7463-4115-86b1-0aa6ea7e7802",
   "metadata": {},
   "outputs": [],
   "source": [
    "display_metrics <- function(tree, ref_tree) {\n",
    "    splitStatuses <- SplitStatus(tree, ref_tree)\n",
    "    quartetStatuses <- QuartetStatus(tree, ref_tree)\n",
    "    print(paste(\"RF (normalized)\", RawSymmetricDifference(splitStatuses, similarity = TRUE) / splitStatuses[, 'N']))\n",
    "    print(paste(\"Quartet: \", SymmetricDifference(quartetStatuses, similarity = TRUE)))\n",
    "}"
   ]
  },
  {
   "cell_type": "markdown",
   "id": "96796a37-a591-42ea-be10-272e12abd511",
   "metadata": {},
   "source": [
    "## Comparison of trees"
   ]
  },
  {
   "cell_type": "markdown",
   "id": "6e046360-8f04-49e5-856d-d7126809c9fd",
   "metadata": {},
   "source": [
    "#### Loading trees"
   ]
  },
  {
   "cell_type": "code",
   "execution_count": null,
   "id": "67bd8aa1-ee15-4111-b8d2-59244c0cd950",
   "metadata": {},
   "outputs": [],
   "source": [
    "## adjust paths accordingly\n",
    "ref_tree <- read.tree(\"../config/esche_shige_short.tree\")\n",
    "rankc_tree <- read.tree(\"../rankc_nj_tree_1_renamed.nwk\")\n",
    "dcj_tree <- read.tree(\"../dcj_nj_tree_1_unimog.nwk\")"
   ]
  },
  {
   "cell_type": "markdown",
   "id": "e84dc8bc-769a-460e-a4cf-b275e3c3ed7d",
   "metadata": {},
   "source": [
    "#### Rankc vs. Reference"
   ]
  },
  {
   "cell_type": "code",
   "execution_count": null,
   "id": "294d4584-f4cc-4c78-9db0-cd20515025bf",
   "metadata": {},
   "outputs": [],
   "source": [
    "display_metrics(rankc_tree, ref_tree)"
   ]
  },
  {
   "cell_type": "markdown",
   "id": "3051f6ad-060d-44d1-88e8-230bd77bc4b4",
   "metadata": {},
   "source": [
    "#### Rank-Indel vs. Reference"
   ]
  },
  {
   "cell_type": "code",
   "execution_count": null,
   "id": "2db2363f-3164-461b-8774-5e09e76d1838",
   "metadata": {},
   "outputs": [],
   "source": [
    "display_metrics(rankc_tree, ref_tree)"
   ]
  },
  {
   "cell_type": "markdown",
   "id": "3e06f32e-f596-46f9-a214-5c587801632c",
   "metadata": {},
   "source": [
    "#### DCJ-Indel vs. Reference"
   ]
  },
  {
   "cell_type": "code",
   "execution_count": null,
   "id": "97179bd2-3271-4db5-9273-27fde188c94c",
   "metadata": {},
   "outputs": [],
   "source": [
    "display_metrics(dcj_tree, ref_tree)"
   ]
  },
  {
   "cell_type": "markdown",
   "id": "a316b027-3858-4d4f-8f7d-9257e975b06e",
   "metadata": {},
   "source": [
    "## Plotting"
   ]
  },
  {
   "cell_type": "markdown",
   "id": "264e0820-94bf-4b11-8699-25bbd6dd4b8e",
   "metadata": {},
   "source": [
    "#### Reference"
   ]
  },
  {
   "cell_type": "code",
   "execution_count": null,
   "id": "369774e3-61ea-4173-9654-ae2b077f9f4a",
   "metadata": {},
   "outputs": [],
   "source": [
    "png(\"reference_tree.png\")\n",
    "plot <- ggtree(ref_tree, branch.length = \"none\") +\n",
    "    geom_tiplab() + \n",
    "    geom_hilight(node=37, fill=\"green\") +\n",
    "    geom_cladelabel(node=37, label=\"B1\", color=\"green\", align=TRUE, offset=3.5) +\n",
    "    geom_hilight(node=32, fill=\"blue\") +\n",
    "    geom_cladelabel(node=32, label=\"A\", color=\"blue\", align=TRUE, offset=3.5) +\n",
    "    geom_hilight(node=25, fill=\"red\") +\n",
    "    geom_cladelabel(node=25, label=\"B2\", color=\"red\", align=TRUE, offset=3.5) +\n",
    "    geom_hilight(node=24, fill=\"orange\") +\n",
    "    geom_cladelabel(node=24, label=\"D\", color=\"orange\", align=TRUE, offset=3) +\n",
    "    geom_hilight(node=9, fill=\"orange\") +\n",
    "    geom_cladelabel(node=9, label=\"D\", color=\"orange\", align=TRUE, offset=3.5) +\n",
    "    geom_hilight(node=35, fill=\"purple\") +\n",
    "    geom_cladelabel(node=35, label=\"S\", color=\"purple\", align=TRUE, offset=3) +\n",
    "    geom_hilight(node=16, fill=\"purple\") +\n",
    "    geom_cladelabel(node=16, label=\"S\", color=\"purple\", align=TRUE, offset=3.5) +\n",
    "    geom_hilight(node=10, fill=\"purple\") +\n",
    "    geom_cladelabel(node=10, label=\"S\", color=\"purple\", align=TRUE, offset=3.5) +\n",
    "    xlim(0, 20)\n",
    "print(plot)\n",
    "dev.off()"
   ]
  },
  {
   "cell_type": "markdown",
   "id": "93dd0b92-bbad-4cd8-85be-0d1d12d22da5",
   "metadata": {},
   "source": [
    "#### Rank"
   ]
  },
  {
   "cell_type": "markdown",
   "id": "b25b7dd8-c084-4507-81c9-f9136505efda",
   "metadata": {},
   "source": [
    "I removed the branch lenghts so that the plot works. Don't know why it breaks with branch lengths, even though I pass `branch.length=\"none\"`.\n",
    "```bash\n",
    "cat rankc_nj_tree_1.nwk | sed 's/\\:[0-9]*[\\.[0-9]*]*//g' > rankc_nj_tree_1.nwk.nobranch\n",
    "```"
   ]
  },
  {
   "cell_type": "code",
   "execution_count": null,
   "id": "bf3a7fdc-19d7-4491-8798-214e58d3fdb4",
   "metadata": {},
   "outputs": [],
   "source": [
    "rankc_tree_nobranch <- read.tree(\"../rankc_nj_tree_1_renamed.nwk.nobranch\")\n",
    "\n",
    "png(\"rankc_tree.png\")\n",
    "plot <- ggtree(rankc_tree_nobranch) +\n",
    "    geom_tiplab() +\n",
    "    geom_hilight(node=26, fill=\"green\") +\n",
    "    geom_cladelabel(node=26, label=\"B1\", color=\"green\", align=TRUE, offset=3.5) +\n",
    "    geom_hilight(node=29, fill=\"blue\") +\n",
    "    geom_cladelabel(node=29, label=\"A\", color=\"blue\", align=TRUE, offset=3.5) +\n",
    "    geom_hilight(node=31, fill=\"orange\") +\n",
    "    geom_cladelabel(node=31, label=\"D\", color=\"orange\", align=TRUE, offset=3.5) +\n",
    "    geom_hilight(node=33, fill=\"red\") +\n",
    "    geom_cladelabel(node=33, label=\"B2\", color=\"red\", align=TRUE, offset=3.5) +\n",
    "    geom_hilight(node=37, fill=\"purple\") +\n",
    "    geom_cladelabel(node=37, label=\"S\", color=\"purple\", align=TRUE, offset=3.5) +\n",
    "    xlim(0, 20)\n",
    "print(plot)\n",
    "dev.off()"
   ]
  },
  {
   "cell_type": "markdown",
   "id": "47fb1524-e193-4587-a8bc-594b14b3a427",
   "metadata": {},
   "source": [
    "#### Rank-Indel"
   ]
  },
  {
   "cell_type": "markdown",
   "id": "69bd17a9-3dbd-4889-aba9-4b7ab55f8c88",
   "metadata": {},
   "source": [
    "#### DCJ-indel"
   ]
  },
  {
   "cell_type": "markdown",
   "id": "2502958a-3b37-4560-b154-cbad26edc617",
   "metadata": {},
   "source": [
    "I removed the branch lenghts so that the plot works. Don't know why it breaks with branch lengths, even though I pass `branch.length=\"none\"`.\n",
    "```bash\n",
    "cat dcj_nj_tree_1.nwk | sed 's/\\:[0-9]*[\\.[0-9]*]*//g' > dcj_nj_tree_1.nwk.nobranch\n",
    "```"
   ]
  },
  {
   "cell_type": "code",
   "execution_count": null,
   "id": "6426526b-5d2b-4a51-940b-982979974605",
   "metadata": {},
   "outputs": [],
   "source": [
    "dcj_tree_nobranch <- read.tree(\"../dcj_nj_tree_1_unimog.nwk.nobranch\")\n",
    "\n",
    "png(\"dcj_tree.png\")\n",
    "plot <- ggtree(dcj_tree_nobranch) +\n",
    "    geom_tiplab() +\n",
    "    geom_hilight(node=31, fill=\"green\") +\n",
    "    geom_cladelabel(node=31, label=\"B1\", color=\"green\", align=TRUE, offset=3.5) +\n",
    "    geom_hilight(node=29, fill=\"blue\") +\n",
    "    geom_cladelabel(node=29, label=\"A\", color=\"blue\", align=TRUE, offset=3.5) +\n",
    "    geom_hilight(node=34, fill=\"orange\") +\n",
    "    geom_cladelabel(node=34, label=\"D\", color=\"orange\", align=TRUE, offset=3) +\n",
    "    geom_hilight(node=1, fill=\"orange\") +\n",
    "    geom_cladelabel(node=1, label=\"D\", color=\"orange\", align=TRUE, offset=3) +\n",
    "    geom_hilight(node=35, fill=\"red\") +\n",
    "    geom_cladelabel(node=35, label=\"B2\", color=\"red\", align=TRUE, offset=3) +\n",
    "    geom_hilight(node=39, fill=\"purple\") +\n",
    "    geom_cladelabel(node=39, label=\"S\", color=\"purple\", align=TRUE, offset=3) +\n",
    "    geom_hilight(node=16, fill=\"purple\") +\n",
    "    geom_cladelabel(node=16, label=\"S\", color=\"purple\", align=TRUE, offset=3) +\n",
    "    geom_hilight(node=19, fill=\"purple\") +\n",
    "    geom_cladelabel(node=19, label=\"S\", color=\"purple\", align=TRUE, offset=3) +\n",
    "    xlim(0, 20)\n",
    "print(plot)\n",
    "dev.off()"
   ]
  }
 ],
 "metadata": {
  "kernelspec": {
   "display_name": "R",
   "language": "R",
   "name": "ir"
  },
  "language_info": {
   "codemirror_mode": "r",
   "file_extension": ".r",
   "mimetype": "text/x-r-source",
   "name": "R",
   "pygments_lexer": "r",
   "version": "4.1.3"
  }
 },
 "nbformat": 4,
 "nbformat_minor": 5
}
