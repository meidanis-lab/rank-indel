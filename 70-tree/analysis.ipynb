{
 "cells": [
  {
   "cell_type": "markdown",
   "id": "33d4d011-a688-4c4a-95b9-d844284d3245",
   "metadata": {},
   "source": [
    "## 0) Preliminaries"
   ]
  },
  {
   "cell_type": "code",
   "execution_count": 1,
   "id": "169a57d2-cc5c-4de0-aa3e-86bd5c1284f3",
   "metadata": {},
   "outputs": [
    {
     "name": "stderr",
     "output_type": "stream",
     "text": [
      "Registered S3 method overwritten by 'ggtree':\n",
      "  method      from \n",
      "  identify.gg ggfun\n",
      "\n",
      "ggtree v3.2.1  For help: https://yulab-smu.top/treedata-book/\n",
      "\n",
      "If you use ggtree in published research, please cite the most appropriate paper(s):\n",
      "\n",
      "1. Guangchuang Yu. Using ggtree to visualize data on tree-like structures. Current Protocols in Bioinformatics. 2020, 69:e96. doi:10.1002/cpbi.96\n",
      "2. Guangchuang Yu, Tommy Tsan-Yuk Lam, Huachen Zhu, Yi Guan. Two methods for mapping and visualizing associated data on phylogeny using ggtree. Molecular Biology and Evolution. 2018, 35(12):3041-3043. doi:10.1093/molbev/msy194\n",
      "3. Guangchuang Yu, David Smith, Huachen Zhu, Yi Guan, Tommy Tsan-Yuk Lam. ggtree: an R package for visualization and annotation of phylogenetic trees with their covariates and other associated data. Methods in Ecology and Evolution. 2017, 8(1):28-36. doi:10.1111/2041-210X.12628\n",
      "\n",
      "\n",
      "\n",
      "\n",
      "Attaching package: ‘ggtree’\n",
      "\n",
      "\n",
      "The following object is masked from ‘package:ape’:\n",
      "\n",
      "    rotate\n",
      "\n",
      "\n",
      "Loading required package: ade4\n",
      "\n"
     ]
    }
   ],
   "source": [
    "library(ape)\n",
    "library(ggtree)\n",
    "library(phangorn)\n",
    "library(Quartet)\n",
    "library(adephylo)"
   ]
  },
  {
   "cell_type": "markdown",
   "id": "6e046360-8f04-49e5-856d-d7126809c9fd",
   "metadata": {},
   "source": [
    "## 1) Reading trees"
   ]
  },
  {
   "cell_type": "code",
   "execution_count": 3,
   "id": "67bd8aa1-ee15-4111-b8d2-59244c0cd950",
   "metadata": {},
   "outputs": [],
   "source": [
    "ref_tree <- read.tree(\"../config/esche_shige.tree\")\n",
    "rank_tree <- read.tree(\"rank_nj_tree_1.nwk\")\n",
    "dcj_tree <- read.tree(\"dcj_nj_tree_1.nwk\")"
   ]
  },
  {
   "cell_type": "markdown",
   "id": "deeb00e8-3b44-4ef0-8589-9bcda99403d6",
   "metadata": {},
   "source": [
    "## 2) Topological comparison of trees"
   ]
  },
  {
   "cell_type": "markdown",
   "id": "e84dc8bc-769a-460e-a4cf-b275e3c3ed7d",
   "metadata": {},
   "source": [
    "### 2.1) Rank vs. Reference"
   ]
  },
  {
   "cell_type": "code",
   "execution_count": 4,
   "id": "b7c2090a-0558-4c22-b98f-27c53edd9f85",
   "metadata": {},
   "outputs": [
    {
     "data": {
      "text/html": [
       "16"
      ],
      "text/latex": [
       "16"
      ],
      "text/markdown": [
       "16"
      ],
      "text/plain": [
       "[1] 16"
      ]
     },
     "metadata": {},
     "output_type": "display_data"
    },
    {
     "data": {
      "text/html": [
       "<table class=\"dataframe\">\n",
       "<caption>A matrix: 1 × 8 of type dbl</caption>\n",
       "<thead>\n",
       "\t<tr><th scope=col>N</th><th scope=col>P1</th><th scope=col>P2</th><th scope=col>s</th><th scope=col>d1</th><th scope=col>d2</th><th scope=col>r1</th><th scope=col>r2</th></tr>\n",
       "</thead>\n",
       "<tbody>\n",
       "\t<tr><td>34</td><td>17</td><td>17</td><td>9</td><td>8</td><td>8</td><td>0</td><td>0</td></tr>\n",
       "</tbody>\n",
       "</table>\n"
      ],
      "text/latex": [
       "A matrix: 1 × 8 of type dbl\n",
       "\\begin{tabular}{llllllll}\n",
       " N & P1 & P2 & s & d1 & d2 & r1 & r2\\\\\n",
       "\\hline\n",
       "\t 34 & 17 & 17 & 9 & 8 & 8 & 0 & 0\\\\\n",
       "\\end{tabular}\n"
      ],
      "text/markdown": [
       "\n",
       "A matrix: 1 × 8 of type dbl\n",
       "\n",
       "| N | P1 | P2 | s | d1 | d2 | r1 | r2 |\n",
       "|---|---|---|---|---|---|---|---|\n",
       "| 34 | 17 | 17 | 9 | 8 | 8 | 0 | 0 |\n",
       "\n"
      ],
      "text/plain": [
       "     N  P1 P2 s d1 d2 r1 r2\n",
       "[1,] 34 17 17 9 8  8  0  0 "
      ]
     },
     "metadata": {},
     "output_type": "display_data"
    },
    {
     "data": {
      "text/html": [
       "0.529411764705882"
      ],
      "text/latex": [
       "0.529411764705882"
      ],
      "text/markdown": [
       "0.529411764705882"
      ],
      "text/plain": [
       "[1] 0.5294118"
      ]
     },
     "metadata": {},
     "output_type": "display_data"
    },
    {
     "data": {
      "text/html": [
       "<table class=\"dataframe\">\n",
       "<caption>A matrix: 1 × 7 of type int</caption>\n",
       "<thead>\n",
       "\t<tr><th scope=col>N</th><th scope=col>Q</th><th scope=col>s</th><th scope=col>d</th><th scope=col>r1</th><th scope=col>r2</th><th scope=col>u</th></tr>\n",
       "</thead>\n",
       "<tbody>\n",
       "\t<tr><td>9690</td><td>4845</td><td>3215</td><td>1630</td><td>0</td><td>0</td><td>0</td></tr>\n",
       "</tbody>\n",
       "</table>\n"
      ],
      "text/latex": [
       "A matrix: 1 × 7 of type int\n",
       "\\begin{tabular}{lllllll}\n",
       " N & Q & s & d & r1 & r2 & u\\\\\n",
       "\\hline\n",
       "\t 9690 & 4845 & 3215 & 1630 & 0 & 0 & 0\\\\\n",
       "\\end{tabular}\n"
      ],
      "text/markdown": [
       "\n",
       "A matrix: 1 × 7 of type int\n",
       "\n",
       "| N | Q | s | d | r1 | r2 | u |\n",
       "|---|---|---|---|---|---|---|\n",
       "| 9690 | 4845 | 3215 | 1630 | 0 | 0 | 0 |\n",
       "\n"
      ],
      "text/plain": [
       "     N    Q    s    d    r1 r2 u\n",
       "[1,] 9690 4845 3215 1630 0  0  0"
      ]
     },
     "metadata": {},
     "output_type": "display_data"
    },
    {
     "data": {
      "text/html": [
       "0.663570691434469"
      ],
      "text/latex": [
       "0.663570691434469"
      ],
      "text/markdown": [
       "0.663570691434469"
      ],
      "text/plain": [
       "[1] 0.6635707"
      ]
     },
     "metadata": {},
     "output_type": "display_data"
    }
   ],
   "source": [
    "RF.dist(rank_tree, ref_tree)\n",
    "SplitStatus(rank_tree, ref_tree) # RF = d1 + d2\n",
    "SymmetricDifference(SplitStatus(rank_tree, ref_tree)) # similarity by splits, aka RF\n",
    "QuartetStatus(rank_tree, ref_tree)\n",
    "SymmetricDifference(QuartetStatus(rank_tree, ref_tree)) # similarity by quartets"
   ]
  },
  {
   "cell_type": "markdown",
   "id": "3e06f32e-f596-46f9-a214-5c587801632c",
   "metadata": {},
   "source": [
    "### 2.2) DCJ vs. Reference"
   ]
  },
  {
   "cell_type": "code",
   "execution_count": 5,
   "id": "e29c13d1-52cd-4a34-99c8-8cc92929da17",
   "metadata": {},
   "outputs": [
    {
     "data": {
      "text/html": [
       "20"
      ],
      "text/latex": [
       "20"
      ],
      "text/markdown": [
       "20"
      ],
      "text/plain": [
       "[1] 20"
      ]
     },
     "metadata": {},
     "output_type": "display_data"
    },
    {
     "data": {
      "text/html": [
       "<table class=\"dataframe\">\n",
       "<caption>A matrix: 1 × 8 of type dbl</caption>\n",
       "<thead>\n",
       "\t<tr><th scope=col>N</th><th scope=col>P1</th><th scope=col>P2</th><th scope=col>s</th><th scope=col>d1</th><th scope=col>d2</th><th scope=col>r1</th><th scope=col>r2</th></tr>\n",
       "</thead>\n",
       "<tbody>\n",
       "\t<tr><td>34</td><td>17</td><td>17</td><td>7</td><td>10</td><td>10</td><td>0</td><td>0</td></tr>\n",
       "</tbody>\n",
       "</table>\n"
      ],
      "text/latex": [
       "A matrix: 1 × 8 of type dbl\n",
       "\\begin{tabular}{llllllll}\n",
       " N & P1 & P2 & s & d1 & d2 & r1 & r2\\\\\n",
       "\\hline\n",
       "\t 34 & 17 & 17 & 7 & 10 & 10 & 0 & 0\\\\\n",
       "\\end{tabular}\n"
      ],
      "text/markdown": [
       "\n",
       "A matrix: 1 × 8 of type dbl\n",
       "\n",
       "| N | P1 | P2 | s | d1 | d2 | r1 | r2 |\n",
       "|---|---|---|---|---|---|---|---|\n",
       "| 34 | 17 | 17 | 7 | 10 | 10 | 0 | 0 |\n",
       "\n"
      ],
      "text/plain": [
       "     N  P1 P2 s d1 d2 r1 r2\n",
       "[1,] 34 17 17 7 10 10 0  0 "
      ]
     },
     "metadata": {},
     "output_type": "display_data"
    },
    {
     "data": {
      "text/html": [
       "0.411764705882353"
      ],
      "text/latex": [
       "0.411764705882353"
      ],
      "text/markdown": [
       "0.411764705882353"
      ],
      "text/plain": [
       "[1] 0.4117647"
      ]
     },
     "metadata": {},
     "output_type": "display_data"
    },
    {
     "data": {
      "text/html": [
       "<table class=\"dataframe\">\n",
       "<caption>A matrix: 1 × 7 of type int</caption>\n",
       "<thead>\n",
       "\t<tr><th scope=col>N</th><th scope=col>Q</th><th scope=col>s</th><th scope=col>d</th><th scope=col>r1</th><th scope=col>r2</th><th scope=col>u</th></tr>\n",
       "</thead>\n",
       "<tbody>\n",
       "\t<tr><td>9690</td><td>4845</td><td>3187</td><td>1658</td><td>0</td><td>0</td><td>0</td></tr>\n",
       "</tbody>\n",
       "</table>\n"
      ],
      "text/latex": [
       "A matrix: 1 × 7 of type int\n",
       "\\begin{tabular}{lllllll}\n",
       " N & Q & s & d & r1 & r2 & u\\\\\n",
       "\\hline\n",
       "\t 9690 & 4845 & 3187 & 1658 & 0 & 0 & 0\\\\\n",
       "\\end{tabular}\n"
      ],
      "text/markdown": [
       "\n",
       "A matrix: 1 × 7 of type int\n",
       "\n",
       "| N | Q | s | d | r1 | r2 | u |\n",
       "|---|---|---|---|---|---|---|\n",
       "| 9690 | 4845 | 3187 | 1658 | 0 | 0 | 0 |\n",
       "\n"
      ],
      "text/plain": [
       "     N    Q    s    d    r1 r2 u\n",
       "[1,] 9690 4845 3187 1658 0  0  0"
      ]
     },
     "metadata": {},
     "output_type": "display_data"
    },
    {
     "data": {
      "text/html": [
       "0.657791537667699"
      ],
      "text/latex": [
       "0.657791537667699"
      ],
      "text/markdown": [
       "0.657791537667699"
      ],
      "text/plain": [
       "[1] 0.6577915"
      ]
     },
     "metadata": {},
     "output_type": "display_data"
    }
   ],
   "source": [
    "RF.dist(dcj_tree, ref_tree)\n",
    "SplitStatus(dcj_tree, ref_tree) # RF = d1 + d2\n",
    "SymmetricDifference(SplitStatus(dcj_tree, ref_tree)) # similarity by splits, aka RF\n",
    "QuartetStatus(dcj_tree, ref_tree)\n",
    "SymmetricDifference(QuartetStatus(dcj_tree, ref_tree)) # similarity by quartets"
   ]
  },
  {
   "cell_type": "markdown",
   "id": "a316b027-3858-4d4f-8f7d-9257e975b06e",
   "metadata": {},
   "source": [
    "## 3) Plotting"
   ]
  },
  {
   "cell_type": "markdown",
   "id": "264e0820-94bf-4b11-8699-25bbd6dd4b8e",
   "metadata": {},
   "source": [
    "### 3.1) Reference"
   ]
  },
  {
   "cell_type": "code",
   "execution_count": 35,
   "id": "369774e3-61ea-4173-9654-ae2b077f9f4a",
   "metadata": {},
   "outputs": [
    {
     "data": {
      "text/html": [
       "<strong>png:</strong> 2"
      ],
      "text/latex": [
       "\\textbf{png:} 2"
      ],
      "text/markdown": [
       "**png:** 2"
      ],
      "text/plain": [
       "png \n",
       "  2 "
      ]
     },
     "metadata": {},
     "output_type": "display_data"
    }
   ],
   "source": [
    "png(\"reference_tree.png\")\n",
    "plot <- ggtree(ref_tree, branch.length = \"none\") +\n",
    "    geom_tiplab() + \n",
    "    geom_hilight(node=37, fill=\"green\") +\n",
    "    geom_cladelabel(node=37, label=\"B1\", color=\"green\", align=TRUE, offset=4.5) +\n",
    "    geom_hilight(node=32, fill=\"blue\") +\n",
    "    geom_cladelabel(node=32, label=\"A\", color=\"blue\", align=TRUE, offset=5) +\n",
    "    geom_hilight(node=25, fill=\"red\") +\n",
    "    geom_cladelabel(node=25, label=\"B2\", color=\"red\", align=TRUE, offset=4) +\n",
    "    geom_hilight(node=24, fill=\"orange\") +\n",
    "    geom_cladelabel(node=24, label=\"D\", color=\"orange\", align=TRUE, offset=4) +\n",
    "    geom_hilight(node=9, fill=\"orange\") +\n",
    "    geom_cladelabel(node=9, label=\"D\", color=\"orange\", align=TRUE, offset=4) +\n",
    "    geom_hilight(node=35, fill=\"purple\") +\n",
    "    geom_cladelabel(node=35, label=\"S\", color=\"purple\", align=TRUE, offset=6) +\n",
    "    geom_hilight(node=16, fill=\"purple\") +\n",
    "    geom_cladelabel(node=16, label=\"S\", color=\"purple\", align=TRUE, offset=6) +\n",
    "    geom_hilight(node=10, fill=\"purple\") +\n",
    "    geom_cladelabel(node=10, label=\"S\", color=\"purple\", align=TRUE, offset=6.5) +\n",
    "    xlim(0, 20)\n",
    "print(plot)\n",
    "dev.off()"
   ]
  },
  {
   "cell_type": "markdown",
   "id": "9ecd5283-fc0f-4daf-92af-2f416379734a",
   "metadata": {},
   "source": [
    "### 3.2) Rank"
   ]
  },
  {
   "cell_type": "markdown",
   "id": "bcf22404-9203-4590-9260-c7ef8f92fd1a",
   "metadata": {},
   "source": [
    "I removed the branch lenghts so that the plot works. Don't know why it breaks with branch lengths, even though I pass `branch.length=\"none\"`.\n",
    "```bash\n",
    "cat rank_lucas_nj_tree_1.nwk | sed 's/\\:[0-9]*[\\.[0-9]*]*//g' > rank_lucas_nj_tree_1.nwk.nobranch\n",
    "```"
   ]
  },
  {
   "cell_type": "code",
   "execution_count": 12,
   "id": "78a13df7-74eb-4818-901f-ecad7ea60ab8",
   "metadata": {},
   "outputs": [
    {
     "data": {
      "text/html": [
       "<strong>png:</strong> 2"
      ],
      "text/latex": [
       "\\textbf{png:} 2"
      ],
      "text/markdown": [
       "**png:** 2"
      ],
      "text/plain": [
       "png \n",
       "  2 "
      ]
     },
     "metadata": {},
     "output_type": "display_data"
    }
   ],
   "source": [
    "rank_tree_nobranch <- read.tree(\"rank_lucas_nj_tree_1.nwk.nobranch\")\n",
    "\n",
    "png(\"rank_tree.png\")\n",
    "plot <- ggtree(rank_tree_nobranch) +\n",
    "    geom_tiplab() +\n",
    "    geom_hilight(node=26, fill=\"green\") +\n",
    "    geom_cladelabel(node=26, label=\"B1\", color=\"green\", align=TRUE, offset=4.5) +\n",
    "    geom_hilight(node=29, fill=\"blue\") +\n",
    "    geom_cladelabel(node=29, label=\"A\", color=\"blue\", align=TRUE, offset=5) +\n",
    "    geom_hilight(node=31, fill=\"orange\") +\n",
    "    geom_cladelabel(node=31, label=\"D\", color=\"orange\", align=TRUE, offset=4.5) +\n",
    "    geom_hilight(node=33, fill=\"red\") +\n",
    "    geom_cladelabel(node=33, label=\"B2\", color=\"red\", align=TRUE, offset=4) +\n",
    "    geom_hilight(node=37, fill=\"purple\") +\n",
    "    geom_cladelabel(node=37, label=\"S\", color=\"purple\", align=TRUE, offset=6.5) +\n",
    "    xlim(0, 20)\n",
    "print(plot)\n",
    "dev.off()"
   ]
  },
  {
   "cell_type": "markdown",
   "id": "69bd17a9-3dbd-4889-aba9-4b7ab55f8c88",
   "metadata": {},
   "source": [
    "### 3.2) DCJ-indel"
   ]
  },
  {
   "cell_type": "markdown",
   "id": "2502958a-3b37-4560-b154-cbad26edc617",
   "metadata": {},
   "source": [
    "I removed the branch lenghts so that the plot works. Don't know why it breaks with branch lengths, even though I pass `branch.length=\"none\"`.\n",
    "```bash\n",
    "cat dcj_nj_tree_1.nwk | sed 's/\\:[0-9]*[\\.[0-9]*]*//g' > dcj_nj_tree_1.nwk.nobranch\n",
    "```"
   ]
  },
  {
   "cell_type": "code",
   "execution_count": 14,
   "id": "6426526b-5d2b-4a51-940b-982979974605",
   "metadata": {},
   "outputs": [
    {
     "data": {
      "text/html": [
       "<strong>png:</strong> 2"
      ],
      "text/latex": [
       "\\textbf{png:} 2"
      ],
      "text/markdown": [
       "**png:** 2"
      ],
      "text/plain": [
       "png \n",
       "  2 "
      ]
     },
     "metadata": {},
     "output_type": "display_data"
    }
   ],
   "source": [
    "dcj_tree_nobranch <- read.tree(\"dcj_nj_tree_1.nwk.nobranch\")\n",
    "\n",
    "png(\"dcj_tree.png\")\n",
    "plot <- ggtree(dcj_tree_nobranch) +\n",
    "    geom_tiplab() +\n",
    "    geom_hilight(node=31, fill=\"green\") +\n",
    "    geom_cladelabel(node=31, label=\"B1\", color=\"green\", align=TRUE, offset=4.5) +\n",
    "    geom_hilight(node=29, fill=\"blue\") +\n",
    "    geom_cladelabel(node=29, label=\"A\", color=\"blue\", align=TRUE, offset=5) +\n",
    "    geom_hilight(node=34, fill=\"orange\") +\n",
    "    geom_cladelabel(node=34, label=\"D\", color=\"orange\", align=TRUE, offset=4) +\n",
    "    geom_hilight(node=1, fill=\"orange\") +\n",
    "    geom_cladelabel(node=1, label=\"D\", color=\"orange\", align=TRUE, offset=4) +\n",
    "    geom_hilight(node=35, fill=\"red\") +\n",
    "    geom_cladelabel(node=35, label=\"B2\", color=\"red\", align=TRUE, offset=4) +\n",
    "    geom_hilight(node=39, fill=\"purple\") +\n",
    "    geom_cladelabel(node=39, label=\"S\", color=\"purple\", align=TRUE, offset=6) +\n",
    "    geom_hilight(node=16, fill=\"purple\") +\n",
    "    geom_cladelabel(node=16, label=\"S\", color=\"purple\", align=TRUE, offset=6) +\n",
    "    geom_hilight(node=19, fill=\"purple\") +\n",
    "    geom_cladelabel(node=19, label=\"S\", color=\"purple\", align=TRUE, offset=6) +\n",
    "    xlim(0, 20)\n",
    "print(plot)\n",
    "dev.off()"
   ]
  }
 ],
 "metadata": {
  "kernelspec": {
   "display_name": "R",
   "language": "R",
   "name": "ir"
  },
  "language_info": {
   "codemirror_mode": "r",
   "file_extension": ".r",
   "mimetype": "text/x-r-source",
   "name": "R",
   "pygments_lexer": "r",
   "version": "4.1.3"
  }
 },
 "nbformat": 4,
 "nbformat_minor": 5
}
